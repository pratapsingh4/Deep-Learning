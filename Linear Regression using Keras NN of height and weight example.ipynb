{
 "cells": [
  {
   "cell_type": "code",
   "execution_count": 1,
   "metadata": {},
   "outputs": [
    {
     "name": "stderr",
     "output_type": "stream",
     "text": [
      "Using TensorFlow backend.\n"
     ]
    }
   ],
   "source": [
    "from keras.models import Sequential\n",
    "from keras.layers import Dense\n",
    "\n",
    "# optimizer: change the value of weight and biases: to looking for minimum cost\n",
    "from keras.optimizers import Adam, SGD"
   ]
  },
  {
   "cell_type": "code",
   "execution_count": 2,
   "metadata": {},
   "outputs": [],
   "source": [
    "model = Sequential()"
   ]
  },
  {
   "cell_type": "code",
   "execution_count": 3,
   "metadata": {},
   "outputs": [
    {
     "name": "stdout",
     "output_type": "stream",
     "text": [
      "WARNING:tensorflow:From /usr/local/lib/python3.6/site-packages/tensorflow/python/framework/op_def_library.py:263: colocate_with (from tensorflow.python.framework.ops) is deprecated and will be removed in a future version.\n",
      "Instructions for updating:\n",
      "Colocations handled automatically by placer.\n"
     ]
    }
   ],
   "source": [
    "# units: how many output value\n",
    "# input_shape: how many input value\n",
    "# Dense: as its core do linear function, means if we dont apply any activation function, so it is linear activation function\n",
    "model.add(Dense(units = 1, input_shape=(1,)))"
   ]
  },
  {
   "cell_type": "code",
   "execution_count": 4,
   "metadata": {
    "scrolled": true
   },
   "outputs": [
    {
     "name": "stdout",
     "output_type": "stream",
     "text": [
      "_________________________________________________________________\n",
      "Layer (type)                 Output Shape              Param #   \n",
      "=================================================================\n",
      "dense_1 (Dense)              (None, 1)                 2         \n",
      "=================================================================\n",
      "Total params: 2\n",
      "Trainable params: 2\n",
      "Non-trainable params: 0\n",
      "_________________________________________________________________\n"
     ]
    }
   ],
   "source": [
    "model.summary()\n",
    "\n",
    "# here we have to 2 parameter, that is  \"weight and bias\""
   ]
  },
  {
   "cell_type": "code",
   "execution_count": 5,
   "metadata": {},
   "outputs": [],
   "source": [
    "model.compile(optimizer = Adam(lr=0.8), loss='mean_squared_error')"
   ]
  },
  {
   "cell_type": "code",
   "execution_count": 7,
   "metadata": {},
   "outputs": [],
   "source": [
    "import pandas as pd\n",
    "df = pd.read_csv('weight-height.csv')"
   ]
  },
  {
   "cell_type": "code",
   "execution_count": 8,
   "metadata": {},
   "outputs": [],
   "source": [
    "X = df[['Height']].values\n",
    "y_true = df['Weight'].values"
   ]
  },
  {
   "cell_type": "code",
   "execution_count": 10,
   "metadata": {
    "scrolled": true
   },
   "outputs": [
    {
     "data": {
      "text/plain": [
       "<matplotlib.axes._subplots.AxesSubplot at 0x7f5d092740f0>"
      ]
     },
     "execution_count": 10,
     "metadata": {},
     "output_type": "execute_result"
    },
    {
     "data": {
      "image/png": "[encoded data removed]",
      "text/plain": [
       "<Figure size 432x288 with 1 Axes>"
      ]
     },
     "metadata": {
      "needs_background": "light"
     },
     "output_type": "display_data"
    }
   ],
   "source": [
    "df.plot(kind='scatter',\n",
    "        x='Height',\n",
    "        y='Weight',\n",
    "        title='Weight and Height in adults')"
   ]
  },
  {
   "cell_type": "code",
   "execution_count": 11,
   "metadata": {},
   "outputs": [
    {
     "name": "stdout",
     "output_type": "stream",
     "text": [
      "WARNING:tensorflow:From /usr/local/lib/python3.6/site-packages/tensorflow/python/ops/math_ops.py:3066: to_int32 (from tensorflow.python.ops.math_ops) is deprecated and will be removed in a future version.\n",
      "Instructions for updating:\n",
      "Use tf.cast instead.\n",
      "Epoch 1/40\n",
      "10000/10000 [==============================] - 1s 52us/step - loss: 778.0116\n",
      "Epoch 2/40\n",
      "10000/10000 [==============================] - 1s 98us/step - loss: 558.3196\n",
      "Epoch 3/40\n",
      "10000/10000 [==============================] - 1s 83us/step - loss: 500.2922\n",
      "Epoch 4/40\n",
      "10000/10000 [==============================] - 1s 80us/step - loss: 447.3205\n",
      "Epoch 5/40\n",
      "10000/10000 [==============================] - 1s 70us/step - loss: 395.9558\n",
      "Epoch 6/40\n",
      "10000/10000 [==============================] - 1s 69us/step - loss: 364.3039\n",
      "Epoch 7/40\n",
      "10000/10000 [==============================] - 1s 77us/step - loss: 329.1828\n",
      "Epoch 8/40\n",
      "10000/10000 [==============================] - 1s 65us/step - loss: 295.1059\n",
      "Epoch 9/40\n",
      "10000/10000 [==============================] - 1s 120us/step - loss: 286.6550\n",
      "Epoch 10/40\n",
      "10000/10000 [==============================] - 1s 149us/step - loss: 251.8288\n",
      "Epoch 11/40\n",
      "10000/10000 [==============================] - 1s 122us/step - loss: 246.0414\n",
      "Epoch 12/40\n",
      "10000/10000 [==============================] - 1s 125us/step - loss: 224.6894\n",
      "Epoch 13/40\n",
      "10000/10000 [==============================] - 1s 86us/step - loss: 206.6713\n",
      "Epoch 14/40\n",
      "10000/10000 [==============================] - 1s 115us/step - loss: 215.0378\n",
      "Epoch 15/40\n",
      "10000/10000 [==============================] - 1s 110us/step - loss: 202.3001\n",
      "Epoch 16/40\n",
      "10000/10000 [==============================] - 1s 103us/step - loss: 191.1501\n",
      "Epoch 17/40\n",
      "10000/10000 [==============================] - 1s 99us/step - loss: 189.7330\n",
      "Epoch 18/40\n",
      "10000/10000 [==============================] - 1s 107us/step - loss: 189.3169\n",
      "Epoch 19/40\n",
      "10000/10000 [==============================] - 1s 81us/step - loss: 188.5039\n",
      "Epoch 20/40\n",
      "10000/10000 [==============================] - 1s 128us/step - loss: 183.9307\n",
      "Epoch 21/40\n",
      "10000/10000 [==============================] - 1s 130us/step - loss: 181.5682\n",
      "Epoch 22/40\n",
      "10000/10000 [==============================] - 2s 152us/step - loss: 179.8122\n",
      "Epoch 23/40\n",
      "10000/10000 [==============================] - 2s 176us/step - loss: 176.7967\n",
      "Epoch 24/40\n",
      "10000/10000 [==============================] - 1s 132us/step - loss: 179.4373\n",
      "Epoch 25/40\n",
      "10000/10000 [==============================] - 1s 116us/step - loss: 177.0875\n",
      "Epoch 26/40\n",
      "10000/10000 [==============================] - 1s 124us/step - loss: 173.1667\n",
      "Epoch 27/40\n",
      "10000/10000 [==============================] - 1s 91us/step - loss: 167.0214\n",
      "Epoch 28/40\n",
      "10000/10000 [==============================] - 1s 124us/step - loss: 181.8551\n",
      "Epoch 29/40\n",
      "10000/10000 [==============================] - 1s 126us/step - loss: 193.1182\n",
      "Epoch 30/40\n",
      "10000/10000 [==============================] - 1s 104us/step - loss: 185.1212\n",
      "Epoch 31/40\n",
      "10000/10000 [==============================] - 1s 140us/step - loss: 175.0902\n",
      "Epoch 32/40\n",
      "10000/10000 [==============================] - 1s 97us/step - loss: 183.3171\n",
      "Epoch 33/40\n",
      "10000/10000 [==============================] - 1s 110us/step - loss: 179.7103\n",
      "Epoch 34/40\n",
      "10000/10000 [==============================] - 1s 89us/step - loss: 186.0804\n",
      "Epoch 35/40\n",
      "10000/10000 [==============================] - 1s 96us/step - loss: 182.3414\n",
      "Epoch 36/40\n",
      "10000/10000 [==============================] - 1s 101us/step - loss: 181.4681\n",
      "Epoch 37/40\n",
      "10000/10000 [==============================] - 1s 123us/step - loss: 181.9565\n",
      "Epoch 38/40\n",
      "10000/10000 [==============================] - 2s 167us/step - loss: 176.3197\n",
      "Epoch 39/40\n",
      "10000/10000 [==============================] - 1s 81us/step - loss: 173.4302\n",
      "Epoch 40/40\n",
      "10000/10000 [==============================] - 1s 94us/step - loss: 174.8617\n"
     ]
    },
    {
     "data": {
      "text/plain": [
       "<keras.callbacks.History at 0x7f5d09228b70>"
      ]
     },
     "execution_count": 11,
     "metadata": {},
     "output_type": "execute_result"
    }
   ],
   "source": [
    "# find value w and b, to have minimum loss\n",
    "model.fit(X, y_true, epochs=40)"
   ]
  },
  {
   "cell_type": "code",
   "execution_count": 12,
   "metadata": {},
   "outputs": [],
   "source": [
    "y_pred = model.predict(X)"
   ]
  },
  {
   "cell_type": "code",
   "execution_count": 16,
   "metadata": {},
   "outputs": [
    {
     "data": {
      "text/plain": [
       "[<matplotlib.lines.Line2D at 0x7f5d0077dac8>]"
      ]
     },
     "execution_count": 16,
     "metadata": {},
     "output_type": "execute_result"
    },
    {
     "data": {
      "image/png": "[encoded data removed]",
      "text/plain": [
       "<Figure size 432x288 with 1 Axes>"
      ]
     },
     "metadata": {
      "needs_background": "light"
     },
     "output_type": "display_data"
    }
   ],
   "source": [
    "import  matplotlib.pyplot  as plt\n",
    "\n",
    "df.plot(kind='scatter',\n",
    "        x='Height',\n",
    "        y='Weight',\n",
    "        title='Weight and Height in adults')\n",
    "plt.plot(X, y_pred, color='red')"
   ]
  },
  {
   "cell_type": "code",
   "execution_count": 17,
   "metadata": {},
   "outputs": [],
   "source": [
    "W, B = model.get_weights()"
   ]
  },
  {
   "cell_type": "code",
   "execution_count": 18,
   "metadata": {},
   "outputs": [
    {
     "data": {
      "text/plain": [
       "array([[7.7364626]], dtype=float32)"
      ]
     },
     "execution_count": 18,
     "metadata": {},
     "output_type": "execute_result"
    }
   ],
   "source": [
    "W"
   ]
  },
  {
   "cell_type": "code",
   "execution_count": 19,
   "metadata": {},
   "outputs": [
    {
     "data": {
      "text/plain": [
       "array([-348.19208], dtype=float32)"
      ]
     },
     "execution_count": 19,
     "metadata": {},
     "output_type": "execute_result"
    }
   ],
   "source": [
    "B"
   ]
  },
  {
   "cell_type": "code",
   "execution_count": 20,
   "metadata": {},
   "outputs": [
    {
     "name": "stdout",
     "output_type": "stream",
     "text": [
      "The R2 score is 0.841\n"
     ]
    }
   ],
   "source": [
    "# Evaluating Model Performance\n",
    "from sklearn.metrics import r2_score\n",
    "print(\"The R2 score is {:0.3f}\".format(r2_score(y_true, y_pred)))"
   ]
  },
  {
   "cell_type": "code",
   "execution_count": 21,
   "metadata": {},
   "outputs": [],
   "source": [
    "from sklearn.model_selection import train_test_split\n",
    "X_train, X_test, y_train, y_test = train_test_split(X, y_true,\n",
    "                                                    test_size=0.2)"
   ]
  },
  {
   "cell_type": "code",
   "execution_count": 22,
   "metadata": {},
   "outputs": [],
   "source": [
    "# reset the weight to again train, detraining \n",
    "\n",
    "W[0, 0] = 0.0\n",
    "B[0] = 0.0\n",
    "model.set_weights((W, B))"
   ]
  },
  {
   "cell_type": "code",
   "execution_count": 23,
   "metadata": {},
   "outputs": [
    {
     "data": {
      "text/plain": [
       "<keras.callbacks.History at 0x7f5cd86feb38>"
      ]
     },
     "execution_count": 23,
     "metadata": {},
     "output_type": "execute_result"
    }
   ],
   "source": [
    "model.fit(X_train, y_train, epochs=50, verbose=0)"
   ]
  },
  {
   "cell_type": "code",
   "execution_count": 24,
   "metadata": {},
   "outputs": [],
   "source": [
    "y_train_pred = model.predict(X_train).ravel()\n",
    "y_test_pred = model.predict(X_test).ravel()"
   ]
  },
  {
   "cell_type": "code",
   "execution_count": 25,
   "metadata": {},
   "outputs": [],
   "source": [
    "from sklearn.metrics import mean_squared_error as mse"
   ]
  },
  {
   "cell_type": "code",
   "execution_count": 26,
   "metadata": {},
   "outputs": [
    {
     "name": "stdout",
     "output_type": "stream",
     "text": [
      "The Mean Squared Error on the Train set is:\t383.1\n",
      "The Mean Squared Error on the Test set is:\t384.3\n"
     ]
    }
   ],
   "source": [
    "print(\"The Mean Squared Error on the Train set is:\\t{:0.1f}\".format(mse(y_train, y_train_pred)))\n",
    "print(\"The Mean Squared Error on the Test set is:\\t{:0.1f}\".format(mse(y_test, y_test_pred)))"
   ]
  },
  {
   "cell_type": "code",
   "execution_count": 27,
   "metadata": {},
   "outputs": [
    {
     "name": "stdout",
     "output_type": "stream",
     "text": [
      "The R2 score on the Train set is:\t0.628\n",
      "The R2 score on the Test set is:\t0.628\n"
     ]
    }
   ],
   "source": [
    "print(\"The R2 score on the Train set is:\\t{:0.3f}\".format(r2_score(y_train, y_train_pred)))\n",
    "print(\"The R2 score on the Test set is:\\t{:0.3f}\".format(r2_score(y_test, y_test_pred)))"
   ]
  },
  {
   "cell_type": "code",
   "execution_count": 28,
   "metadata": {},
   "outputs": [
    {
     "data": {
      "text/html": [
       "<div>\n",
       "<style scoped>\n",
       "    .dataframe tbody tr th:only-of-type {\n",
       "        vertical-align: middle;\n",
       "    }\n",
       "\n",
       "    .dataframe tbody tr th {\n",
       "        vertical-align: top;\n",
       "    }\n",
       "\n",
       "    .dataframe thead th {\n",
       "        text-align: right;\n",
       "    }\n",
       "</style>\n",
       "<table border=\"1\" class=\"dataframe\">\n",
       "  <thead>\n",
       "    <tr style=\"text-align: right;\">\n",
       "      <th></th>\n",
       "      <th>Gender</th>\n",
       "      <th>Height</th>\n",
       "      <th>Weight</th>\n",
       "    </tr>\n",
       "  </thead>\n",
       "  <tbody>\n",
       "    <tr>\n",
       "      <th>0</th>\n",
       "      <td>Male</td>\n",
       "      <td>73.847017</td>\n",
       "      <td>241.893563</td>\n",
       "    </tr>\n",
       "    <tr>\n",
       "      <th>1</th>\n",
       "      <td>Male</td>\n",
       "      <td>68.781904</td>\n",
       "      <td>162.310473</td>\n",
       "    </tr>\n",
       "    <tr>\n",
       "      <th>2</th>\n",
       "      <td>Male</td>\n",
       "      <td>74.110105</td>\n",
       "      <td>212.740856</td>\n",
       "    </tr>\n",
       "    <tr>\n",
       "      <th>3</th>\n",
       "      <td>Male</td>\n",
       "      <td>71.730978</td>\n",
       "      <td>220.042470</td>\n",
       "    </tr>\n",
       "    <tr>\n",
       "      <th>4</th>\n",
       "      <td>Male</td>\n",
       "      <td>69.881796</td>\n",
       "      <td>206.349801</td>\n",
       "    </tr>\n",
       "  </tbody>\n",
       "</table>\n",
       "</div>"
      ],
      "text/plain": [
       "  Gender     Height      Weight\n",
       "0   Male  73.847017  241.893563\n",
       "1   Male  68.781904  162.310473\n",
       "2   Male  74.110105  212.740856\n",
       "3   Male  71.730978  220.042470\n",
       "4   Male  69.881796  206.349801"
      ]
     },
     "execution_count": 28,
     "metadata": {},
     "output_type": "execute_result"
    }
   ],
   "source": [
    "df.head()"
   ]
  },
  {
   "cell_type": "code",
   "execution_count": null,
   "metadata": {},
   "outputs": [],
   "source": []
  },
  {
   "cell_type": "code",
   "execution_count": null,
   "metadata": {},
   "outputs": [],
   "source": []
  },
  {
   "cell_type": "code",
   "execution_count": null,
   "metadata": {},
   "outputs": [],
   "source": []
  },
  {
   "cell_type": "code",
   "execution_count": null,
   "metadata": {},
   "outputs": [],
   "source": []
  }
 ],
 "metadata": {
  "kernelspec": {
   "display_name": "Python 3",
   "language": "python",
   "name": "python3"
  },
  "language_info": {
   "codemirror_mode": {
    "name": "ipython",
    "version": 3
   },
   "file_extension": ".py",
   "mimetype": "text/x-python",
   "name": "python",
   "nbconvert_exporter": "python",
   "pygments_lexer": "ipython3",
   "version": "3.6.6"
  }
 },
 "nbformat": 4,
 "nbformat_minor": 2
}
