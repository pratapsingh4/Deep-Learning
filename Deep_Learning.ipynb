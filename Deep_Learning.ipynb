{
 "cells": [
  {
   "cell_type": "code",
   "execution_count": 50,
   "metadata": {},
   "outputs": [],
   "source": [
    "from keras.models import Sequential\n",
    "import tensorflow as tf"
   ]
  },
  {
   "cell_type": "code",
   "execution_count": 51,
   "metadata": {},
   "outputs": [],
   "source": [
    "model=Sequential()"
   ]
  },
  {
   "cell_type": "code",
   "execution_count": 52,
   "metadata": {},
   "outputs": [],
   "source": [
    "# to tell how many hidden layer is used\n",
    "from keras.layers import  Dense \n"
   ]
  },
  {
   "cell_type": "code",
   "execution_count": 53,
   "metadata": {},
   "outputs": [],
   "source": [
    "#for one hidden layer;for two hidden layer use model\n",
    "#model.add(Dense()) two time\n",
    "\n",
    "#units=1 i.e.output ill be 1 and input is also  1 feature which has 2\n",
    "#units=y\n",
    "#input=x\n",
    "#Dense():add hidden layer\n",
    "model.add(Dense(units=1,input_shape=(1,)))"
   ]
  },
  {
   "cell_type": "code",
   "execution_count": 54,
   "metadata": {},
   "outputs": [
    {
     "name": "stdout",
     "output_type": "stream",
     "text": [
      "_________________________________________________________________\n",
      "Layer (type)                 Output Shape              Param #   \n",
      "=================================================================\n",
      "dense_2 (Dense)              (None, 1)                 2         \n",
      "=================================================================\n",
      "Total params: 2\n",
      "Trainable params: 2\n",
      "Non-trainable params: 0\n",
      "_________________________________________________________________\n"
     ]
    }
   ],
   "source": [
    "model.summary()"
   ]
  },
  {
   "cell_type": "code",
   "execution_count": 55,
   "metadata": {},
   "outputs": [],
   "source": [
    "from keras.optimizers import Adam,SGD"
   ]
  },
  {
   "cell_type": "code",
   "execution_count": 56,
   "metadata": {},
   "outputs": [],
   "source": [
    "#combining the newtwork i,e input layer,hiddenlayer,output layer\n",
    "#S Gradient Descent,and Adam are optimizer for optimizing  model\n",
    "model.compile(optimizer=Adam(),loss='mean_squared_error')  "
   ]
  },
  {
   "cell_type": "code",
   "execution_count": 57,
   "metadata": {},
   "outputs": [],
   "source": [
    "import pandas as pd"
   ]
  },
  {
   "cell_type": "code",
   "execution_count": 58,
   "metadata": {},
   "outputs": [],
   "source": [
    "df=pd.read_csv('weight-height.csv')"
   ]
  },
  {
   "cell_type": "code",
   "execution_count": 59,
   "metadata": {},
   "outputs": [
    {
     "data": {
      "text/html": [
       "<div>\n",
       "<style scoped>\n",
       "    .dataframe tbody tr th:only-of-type {\n",
       "        vertical-align: middle;\n",
       "    }\n",
       "\n",
       "    .dataframe tbody tr th {\n",
       "        vertical-align: top;\n",
       "    }\n",
       "\n",
       "    .dataframe thead th {\n",
       "        text-align: right;\n",
       "    }\n",
       "</style>\n",
       "<table border=\"1\" class=\"dataframe\">\n",
       "  <thead>\n",
       "    <tr style=\"text-align: right;\">\n",
       "      <th></th>\n",
       "      <th>Gender</th>\n",
       "      <th>Height</th>\n",
       "      <th>Weight</th>\n",
       "    </tr>\n",
       "  </thead>\n",
       "  <tbody>\n",
       "    <tr>\n",
       "      <th>0</th>\n",
       "      <td>Male</td>\n",
       "      <td>73.847017</td>\n",
       "      <td>241.893563</td>\n",
       "    </tr>\n",
       "    <tr>\n",
       "      <th>1</th>\n",
       "      <td>Male</td>\n",
       "      <td>68.781904</td>\n",
       "      <td>162.310473</td>\n",
       "    </tr>\n",
       "  </tbody>\n",
       "</table>\n",
       "</div>"
      ],
      "text/plain": [
       "  Gender     Height      Weight\n",
       "0   Male  73.847017  241.893563\n",
       "1   Male  68.781904  162.310473"
      ]
     },
     "execution_count": 59,
     "metadata": {},
     "output_type": "execute_result"
    }
   ],
   "source": [
    "df.head(2)"
   ]
  },
  {
   "cell_type": "code",
   "execution_count": 60,
   "metadata": {},
   "outputs": [],
   "source": [
    "y=df.iloc[:,-1]"
   ]
  },
  {
   "cell_type": "code",
   "execution_count": 61,
   "metadata": {},
   "outputs": [],
   "source": [
    "x=df.iloc[:,1:2]"
   ]
  },
  {
   "cell_type": "code",
   "execution_count": 62,
   "metadata": {},
   "outputs": [
    {
     "data": {
      "text/plain": [
       "<matplotlib.axes._subplots.AxesSubplot at 0x7f153f862278>"
      ]
     },
     "execution_count": 62,
     "metadata": {},
     "output_type": "execute_result"
    },
    {
     "data": {
      "image/png": "[encoded data removed]",
      "text/plain": [
       "<Figure size 432x288 with 1 Axes>"
      ]
     },
     "metadata": {
      "needs_background": "light"
     },
     "output_type": "display_data"
    }
   ],
   "source": [
    "df.plot(kind='scatter',x='Height',y='Weight')\n"
   ]
  },
  {
   "cell_type": "code",
   "execution_count": 83,
   "metadata": {},
   "outputs": [
    {
     "name": "stdout",
     "output_type": "stream",
     "text": [
      "Epoch 1/50\n",
      "10000/10000 [==============================] - 0s 49us/step - loss: 666.3314\n",
      "Epoch 2/50\n",
      "10000/10000 [==============================] - 1s 60us/step - loss: 601.7193\n",
      "Epoch 3/50\n",
      "10000/10000 [==============================] - 1s 51us/step - loss: 577.1534\n",
      "Epoch 4/50\n",
      "10000/10000 [==============================] - 0s 47us/step - loss: 569.3560\n",
      "Epoch 5/50\n",
      "10000/10000 [==============================] - 0s 47us/step - loss: 567.3911\n",
      "Epoch 6/50\n",
      "10000/10000 [==============================] - 0s 48us/step - loss: 566.9870\n",
      "Epoch 7/50\n",
      "10000/10000 [==============================] - 0s 47us/step - loss: 566.8322\n",
      "Epoch 8/50\n",
      "10000/10000 [==============================] - 1s 50us/step - loss: 566.7663\n",
      "Epoch 9/50\n",
      "10000/10000 [==============================] - 0s 49us/step - loss: 566.6964\n",
      "Epoch 10/50\n",
      "10000/10000 [==============================] - 1s 50us/step - loss: 566.6916\n",
      "Epoch 11/50\n",
      "10000/10000 [==============================] - 1s 55us/step - loss: 566.5911\n",
      "Epoch 12/50\n",
      "10000/10000 [==============================] - 1s 60us/step - loss: 566.5838\n",
      "Epoch 13/50\n",
      "10000/10000 [==============================] - 0s 39us/step - loss: 566.4382\n",
      "Epoch 14/50\n",
      "10000/10000 [==============================] - 1s 54us/step - loss: 566.2628\n",
      "Epoch 15/50\n",
      "10000/10000 [==============================] - 1s 50us/step - loss: 566.1871\n",
      "Epoch 16/50\n",
      "10000/10000 [==============================] - 1s 60us/step - loss: 566.0966\n",
      "Epoch 17/50\n",
      "10000/10000 [==============================] - 1s 50us/step - loss: 565.8941\n",
      "Epoch 18/50\n",
      "10000/10000 [==============================] - 0s 49us/step - loss: 565.8847\n",
      "Epoch 19/50\n",
      "10000/10000 [==============================] - 1s 50us/step - loss: 565.6553\n",
      "Epoch 20/50\n",
      "10000/10000 [==============================] - 1s 50us/step - loss: 565.5242\n",
      "Epoch 21/50\n",
      "10000/10000 [==============================] - 1s 52us/step - loss: 565.2608\n",
      "Epoch 22/50\n",
      "10000/10000 [==============================] - 1s 55us/step - loss: 565.0356\n",
      "Epoch 23/50\n",
      "10000/10000 [==============================] - 1s 51us/step - loss: 564.9736\n",
      "Epoch 24/50\n",
      "10000/10000 [==============================] - 1s 50us/step - loss: 564.6745\n",
      "Epoch 25/50\n",
      "10000/10000 [==============================] - 1s 50us/step - loss: 564.4352\n",
      "Epoch 26/50\n",
      "10000/10000 [==============================] - 1s 54us/step - loss: 564.3742\n",
      "Epoch 27/50\n",
      "10000/10000 [==============================] - 1s 61us/step - loss: 564.1298\n",
      "Epoch 28/50\n",
      "10000/10000 [==============================] - 0s 46us/step - loss: 563.9810\n",
      "Epoch 29/50\n",
      "10000/10000 [==============================] - 0s 45us/step - loss: 563.7661\n",
      "Epoch 30/50\n",
      "10000/10000 [==============================] - 1s 58us/step - loss: 563.5785\n",
      "Epoch 31/50\n",
      "10000/10000 [==============================] - 1s 51us/step - loss: 563.4326\n",
      "Epoch 32/50\n",
      "10000/10000 [==============================] - 1s 54us/step - loss: 563.2116\n",
      "Epoch 33/50\n",
      "10000/10000 [==============================] - 1s 65us/step - loss: 563.0842\n",
      "Epoch 34/50\n",
      "10000/10000 [==============================] - 1s 61us/step - loss: 562.8928\n",
      "Epoch 35/50\n",
      "10000/10000 [==============================] - 1s 54us/step - loss: 562.5319\n",
      "Epoch 36/50\n",
      "10000/10000 [==============================] - 0s 47us/step - loss: 562.4787\n",
      "Epoch 37/50\n",
      "10000/10000 [==============================] - 1s 51us/step - loss: 562.2285\n",
      "Epoch 38/50\n",
      "10000/10000 [==============================] - 1s 52us/step - loss: 562.0639\n",
      "Epoch 39/50\n",
      "10000/10000 [==============================] - 0s 49us/step - loss: 561.8905\n",
      "Epoch 40/50\n",
      "10000/10000 [==============================] - 0s 47us/step - loss: 561.6304\n",
      "Epoch 41/50\n",
      "10000/10000 [==============================] - 1s 58us/step - loss: 561.3258\n",
      "Epoch 42/50\n",
      "10000/10000 [==============================] - 1s 51us/step - loss: 561.3199\n",
      "Epoch 43/50\n",
      "10000/10000 [==============================] - 1s 52us/step - loss: 561.0139\n",
      "Epoch 44/50\n",
      "10000/10000 [==============================] - 1s 52us/step - loss: 560.9576\n",
      "Epoch 45/50\n",
      "10000/10000 [==============================] - 1s 53us/step - loss: 560.6289\n",
      "Epoch 46/50\n",
      "10000/10000 [==============================] - 1s 51us/step - loss: 560.4867\n",
      "Epoch 47/50\n",
      "10000/10000 [==============================] - 0s 50us/step - loss: 560.2388\n",
      "Epoch 48/50\n",
      "10000/10000 [==============================] - 0s 49us/step - loss: 560.0548\n",
      "Epoch 49/50\n",
      "10000/10000 [==============================] - 0s 43us/step - loss: 559.8562\n",
      "Epoch 50/50\n",
      "10000/10000 [==============================] - 0s 44us/step - loss: 559.6644\n"
     ]
    },
    {
     "data": {
      "text/plain": [
       "<keras.callbacks.History at 0x7f153f6e47b8>"
      ]
     },
     "execution_count": 83,
     "metadata": {},
     "output_type": "execute_result"
    }
   ],
   "source": [
    "model.fit(x,y,epochs=50)"
   ]
  },
  {
   "cell_type": "code",
   "execution_count": 64,
   "metadata": {},
   "outputs": [],
   "source": [
    "y_pred=model.predict(x)"
   ]
  },
  {
   "cell_type": "code",
   "execution_count": 65,
   "metadata": {},
   "outputs": [
    {
     "data": {
      "text/plain": [
       "array([[177.63255],\n",
       "       [165.56055],\n",
       "       [178.2596 ],\n",
       "       ...,\n",
       "       [153.84889],\n",
       "       [166.16196],\n",
       "       [149.2639 ]], dtype=float32)"
      ]
     },
     "execution_count": 65,
     "metadata": {},
     "output_type": "execute_result"
    }
   ],
   "source": [
    "y_pred"
   ]
  },
  {
   "cell_type": "code",
   "execution_count": 66,
   "metadata": {},
   "outputs": [],
   "source": [
    "import matplotlib.pyplot as plt"
   ]
  },
  {
   "cell_type": "code",
   "execution_count": 84,
   "metadata": {},
   "outputs": [
    {
     "data": {
      "text/plain": [
       "<matplotlib.axes._subplots.AxesSubplot at 0x7f153f642b70>"
      ]
     },
     "execution_count": 84,
     "metadata": {},
     "output_type": "execute_result"
    },
    {
     "data": {
      "image/png": "[encoded data removed]",
      "text/plain": [
       "<Figure size 432x288 with 1 Axes>"
      ]
     },
     "metadata": {
      "needs_background": "light"
     },
     "output_type": "display_data"
    },
    {
     "data": {
      "image/png": "[encoded data removed]",
      "text/plain": [
       "<Figure size 432x288 with 1 Axes>"
      ]
     },
     "metadata": {
      "needs_background": "light"
     },
     "output_type": "display_data"
    }
   ],
   "source": [
    "import  matplotlib.pyplot  as plt\n",
    "plt.plot(x,y_pred)\n",
    "df.plot(kind='Scatter',\n",
    "        x='Height',\n",
    "        y='Weight',\n",
    "        title='Weight and Height in adults')\n"
   ]
  },
  {
   "cell_type": "code",
   "execution_count": 87,
   "metadata": {},
   "outputs": [],
   "source": [
    "W,B=model.get_weights()"
   ]
  },
  {
   "cell_type": "code",
   "execution_count": 88,
   "metadata": {},
   "outputs": [
    {
     "data": {
      "text/plain": [
       "array([-0.8155959], dtype=float32)"
      ]
     },
     "execution_count": 88,
     "metadata": {},
     "output_type": "execute_result"
    }
   ],
   "source": [
    "B"
   ]
  },
  {
   "cell_type": "code",
   "execution_count": 89,
   "metadata": {},
   "outputs": [
    {
     "data": {
      "text/plain": [
       "array([[2.4557376]], dtype=float32)"
      ]
     },
     "execution_count": 89,
     "metadata": {},
     "output_type": "execute_result"
    }
   ],
   "source": [
    "W"
   ]
  },
  {
   "cell_type": "code",
   "execution_count": 90,
   "metadata": {},
   "outputs": [],
   "source": [
    "from sklearn.metrics import r2_score"
   ]
  },
  {
   "cell_type": "code",
   "execution_count": 92,
   "metadata": {},
   "outputs": [
    {
     "name": "stdout",
     "output_type": "stream",
     "text": [
      "The R2 score is 0.444\n"
     ]
    }
   ],
   "source": [
    "# Evaluating Model Performance\n",
    "from sklearn.metrics import r2_score\n",
    "print(\"The R2 score is {:0.3f}\".format(r2_score(y, y_pred)))\n"
   ]
  },
  {
   "cell_type": "code",
   "execution_count": 93,
   "metadata": {},
   "outputs": [],
   "source": [
    "# to train again\n",
    "\n",
    "W[0,0]=0.0\n",
    "B[0]=0.0\n",
    "model.set_weights((W,B))"
   ]
  },
  {
   "cell_type": "code",
   "execution_count": 94,
   "metadata": {},
   "outputs": [],
   "source": [
    "from sklearn.model_selection import train_test_split\n",
    "x_train, x_test, y_train, y_test = train_test_split(x, y,\n",
    "                                                    test_size=0.2)"
   ]
  },
  {
   "cell_type": "code",
   "execution_count": 95,
   "metadata": {},
   "outputs": [
    {
     "data": {
      "text/plain": [
       "<keras.callbacks.History at 0x7f153f39d898>"
      ]
     },
     "execution_count": 95,
     "metadata": {},
     "output_type": "execute_result"
    }
   ],
   "source": [
    "model.fit(x_train,y_train,epochs=10,verbose=0) #epochs will not be shown using verbose=0"
   ]
  },
  {
   "cell_type": "code",
   "execution_count": 96,
   "metadata": {},
   "outputs": [],
   "source": [
    "y_train_pred = model.predict(x_train).ravel()\n",
    "y_test_pred = model.predict(x_test).ravel()"
   ]
  },
  {
   "cell_type": "code",
   "execution_count": 97,
   "metadata": {},
   "outputs": [],
   "source": [
    "from sklearn.metrics import mean_squared_error as mse"
   ]
  },
  {
   "cell_type": "code",
   "execution_count": 98,
   "metadata": {},
   "outputs": [
    {
     "name": "stdout",
     "output_type": "stream",
     "text": [
      "The Mean Squared Error on the Train set is:\t624.1\n",
      "The Mean Squared Error on the Test set is:\t654.6\n"
     ]
    }
   ],
   "source": [
    "print(\"The Mean Squared Error on the Train set is:\\t{:0.1f}\".format(mse(y_train, y_train_pred)))\n",
    "print(\"The Mean Squared Error on the Test set is:\\t{:0.1f}\".format(mse(y_test, y_test_pred)))"
   ]
  },
  {
   "cell_type": "code",
   "execution_count": 99,
   "metadata": {},
   "outputs": [
    {
     "name": "stdout",
     "output_type": "stream",
     "text": [
      "The R2 score on the Train set is:\t0.391\n",
      "The R2 score on the Test set is:\t0.378\n"
     ]
    }
   ],
   "source": [
    "print(\"The R2 score on the Train set is:\\t{:0.3f}\".format(r2_score(y_train, y_train_pred)))\n",
    "print(\"The R2 score on the Test set is:\\t{:0.3f}\".format(r2_score(y_test, y_test_pred)))"
   ]
  },
  {
   "cell_type": "code",
   "execution_count": null,
   "metadata": {},
   "outputs": [],
   "source": []
  }
 ],
 "metadata": {
  "kernelspec": {
   "display_name": "Python 3",
   "language": "python",
   "name": "python3"
  },
  "language_info": {
   "codemirror_mode": {
    "name": "ipython",
    "version": 3
   },
   "file_extension": ".py",
   "mimetype": "text/x-python",
   "name": "python",
   "nbconvert_exporter": "python",
   "pygments_lexer": "ipython3",
   "version": "3.6.6"
  }
 },
 "nbformat": 4,
 "nbformat_minor": 2
}
